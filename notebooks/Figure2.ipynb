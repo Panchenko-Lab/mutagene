{
 "cells": [
  {
   "cell_type": "code",
   "execution_count": 2,
   "metadata": {},
   "outputs": [],
   "source": [
    "library(data.table)\n",
    "library(dplyr)\n",
    "library(tidyr)\n",
    "library(ggplot2)\n",
    "library(cowplot)\n",
    "library(ggsci)"
   ]
  },
  {
   "cell_type": "code",
   "execution_count": 4,
   "metadata": {},
   "outputs": [
    {
     "data": {
      "text/html": [
       "<table>\n",
       "<thead><tr><th scope=col>sigtype</th><th scope=col>nsig</th><th scope=col>nmut</th><th scope=col>method</th><th scope=col>SRMSE</th><th scope=col>PRMSE</th><th scope=col>STRMSE</th><th scope=col>LLIK</th><th scope=col>LLIK0</th><th scope=col>TLLIK</th><th scope=col>TLLIK0</th><th scope=col>precision</th><th scope=col>recall</th><th scope=col>accuracy</th><th scope=col>f1</th><th scope=col>id</th></tr></thead>\n",
       "<tbody>\n",
       "\t<tr><td>5          </td><td>2          </td><td>103        </td><td>mle        </td><td>0.03971821 </td><td>0.009182992</td><td>0.039718207</td><td>-440.9766  </td><td>-441.5492  </td><td>-440.9766  </td><td>-441.5492  </td><td>1.0000000  </td><td>1          </td><td>1.0        </td><td>1.0        </td><td>1          </td></tr>\n",
       "\t<tr><td>5          </td><td>2          </td><td>103        </td><td>mlez       </td><td>0.06445169 </td><td>0.009167851</td><td>0.064451687</td><td>-461.1207  </td><td>-441.5492  </td><td>-461.1207  </td><td>-441.5492  </td><td>1.0000000  </td><td>1          </td><td>1.0        </td><td>1.0        </td><td>2          </td></tr>\n",
       "\t<tr><td>5          </td><td>2          </td><td>103        </td><td>ds         </td><td>0.02510848 </td><td>0.009167380</td><td>0.025108485</td><td>-441.0523  </td><td>-441.5492  </td><td>-441.0523  </td><td>-441.5492  </td><td>1.0000000  </td><td>1          </td><td>1.0        </td><td>1.0        </td><td>3          </td></tr>\n",
       "\t<tr><td>5          </td><td>2          </td><td>103        </td><td>mle        </td><td>0.01217095 </td><td>0.010233641</td><td>0.009802245</td><td>-312.2422  </td><td>-312.9220  </td><td>-315.2956  </td><td>-312.9220  </td><td>1.0000000  </td><td>1          </td><td>1.0        </td><td>1.0        </td><td>4          </td></tr>\n",
       "\t<tr><td>5          </td><td>2          </td><td>103        </td><td>mlez       </td><td>0.03318391 </td><td>0.010858001</td><td>0.033183912</td><td>-324.5926  </td><td>-312.9220  </td><td>-324.5926  </td><td>-312.9220  </td><td>1.0000000  </td><td>1          </td><td>1.0        </td><td>1.0        </td><td>5          </td></tr>\n",
       "\t<tr><td>5          </td><td>2          </td><td>103        </td><td>ds         </td><td>0.05904876 </td><td>0.009870138</td><td>0.059048760</td><td>-315.2485  </td><td>-312.9220  </td><td>-315.2485  </td><td>-312.9220  </td><td>0.6666667  </td><td>1          </td><td>0.8        </td><td>0.8        </td><td>6          </td></tr>\n",
       "</tbody>\n",
       "</table>\n"
      ],
      "text/latex": [
       "\\begin{tabular}{r|llllllllllllllll}\n",
       " sigtype & nsig & nmut & method & SRMSE & PRMSE & STRMSE & LLIK & LLIK0 & TLLIK & TLLIK0 & precision & recall & accuracy & f1 & id\\\\\n",
       "\\hline\n",
       "\t 5           & 2           & 103         & mle         & 0.03971821  & 0.009182992 & 0.039718207 & -440.9766   & -441.5492   & -440.9766   & -441.5492   & 1.0000000   & 1           & 1.0         & 1.0         & 1          \\\\\n",
       "\t 5           & 2           & 103         & mlez        & 0.06445169  & 0.009167851 & 0.064451687 & -461.1207   & -441.5492   & -461.1207   & -441.5492   & 1.0000000   & 1           & 1.0         & 1.0         & 2          \\\\\n",
       "\t 5           & 2           & 103         & ds          & 0.02510848  & 0.009167380 & 0.025108485 & -441.0523   & -441.5492   & -441.0523   & -441.5492   & 1.0000000   & 1           & 1.0         & 1.0         & 3          \\\\\n",
       "\t 5           & 2           & 103         & mle         & 0.01217095  & 0.010233641 & 0.009802245 & -312.2422   & -312.9220   & -315.2956   & -312.9220   & 1.0000000   & 1           & 1.0         & 1.0         & 4          \\\\\n",
       "\t 5           & 2           & 103         & mlez        & 0.03318391  & 0.010858001 & 0.033183912 & -324.5926   & -312.9220   & -324.5926   & -312.9220   & 1.0000000   & 1           & 1.0         & 1.0         & 5          \\\\\n",
       "\t 5           & 2           & 103         & ds          & 0.05904876  & 0.009870138 & 0.059048760 & -315.2485   & -312.9220   & -315.2485   & -312.9220   & 0.6666667   & 1           & 0.8         & 0.8         & 6          \\\\\n",
       "\\end{tabular}\n"
      ],
      "text/markdown": [
       "\n",
       "sigtype | nsig | nmut | method | SRMSE | PRMSE | STRMSE | LLIK | LLIK0 | TLLIK | TLLIK0 | precision | recall | accuracy | f1 | id | \n",
       "|---|---|---|---|---|---|\n",
       "| 5           | 2           | 103         | mle         | 0.03971821  | 0.009182992 | 0.039718207 | -440.9766   | -441.5492   | -440.9766   | -441.5492   | 1.0000000   | 1           | 1.0         | 1.0         | 1           | \n",
       "| 5           | 2           | 103         | mlez        | 0.06445169  | 0.009167851 | 0.064451687 | -461.1207   | -441.5492   | -461.1207   | -441.5492   | 1.0000000   | 1           | 1.0         | 1.0         | 2           | \n",
       "| 5           | 2           | 103         | ds          | 0.02510848  | 0.009167380 | 0.025108485 | -441.0523   | -441.5492   | -441.0523   | -441.5492   | 1.0000000   | 1           | 1.0         | 1.0         | 3           | \n",
       "| 5           | 2           | 103         | mle         | 0.01217095  | 0.010233641 | 0.009802245 | -312.2422   | -312.9220   | -315.2956   | -312.9220   | 1.0000000   | 1           | 1.0         | 1.0         | 4           | \n",
       "| 5           | 2           | 103         | mlez        | 0.03318391  | 0.010858001 | 0.033183912 | -324.5926   | -312.9220   | -324.5926   | -312.9220   | 1.0000000   | 1           | 1.0         | 1.0         | 5           | \n",
       "| 5           | 2           | 103         | ds          | 0.05904876  | 0.009870138 | 0.059048760 | -315.2485   | -312.9220   | -315.2485   | -312.9220   | 0.6666667   | 1           | 0.8         | 0.8         | 6           | \n",
       "\n",
       "\n"
      ],
      "text/plain": [
       "  sigtype nsig nmut method SRMSE      PRMSE       STRMSE      LLIK      LLIK0     TLLIK     TLLIK0    precision recall accuracy f1  id\n",
       "1 5       2    103  mle    0.03971821 0.009182992 0.039718207 -440.9766 -441.5492 -440.9766 -441.5492 1.0000000 1      1.0      1.0 1 \n",
       "2 5       2    103  mlez   0.06445169 0.009167851 0.064451687 -461.1207 -441.5492 -461.1207 -441.5492 1.0000000 1      1.0      1.0 2 \n",
       "3 5       2    103  ds     0.02510848 0.009167380 0.025108485 -441.0523 -441.5492 -441.0523 -441.5492 1.0000000 1      1.0      1.0 3 \n",
       "4 5       2    103  mle    0.01217095 0.010233641 0.009802245 -312.2422 -312.9220 -315.2956 -312.9220 1.0000000 1      1.0      1.0 4 \n",
       "5 5       2    103  mlez   0.03318391 0.010858001 0.033183912 -324.5926 -312.9220 -324.5926 -312.9220 1.0000000 1      1.0      1.0 5 \n",
       "6 5       2    103  ds     0.05904876 0.009870138 0.059048760 -315.2485 -312.9220 -315.2485 -312.9220 0.6666667 1      0.8      0.8 6 "
      ]
     },
     "metadata": {},
     "output_type": "display_data"
    }
   ],
   "source": [
    "d = fread(\"../data/benchmark/multiple/res1.txt\") #  %>% filter(LLIK < 900000, LLIK0 < 900000)\n",
    "d <- d %>% mutate(\n",
    "    id = row_number(),\n",
    "    sigtype = as.factor(sigtype),\n",
    "    method = as.factor(method))\n",
    "    sig1 = as.factor(sig1),\n",
    "    sig2 = as.factor(sig2),\n",
    "    ratio = as.factor(ratio),\n",
    "    noise = as.factor(noise),\n",
    "    nmut = as.factor(nmut)\n",
    ")\n",
    "head(d)"
   ]
  },
  {
   "cell_type": "code",
   "execution_count": null,
   "metadata": {},
   "outputs": [],
   "source": [
    "options(repr.plot.width=5, repr.plot.height=2)\n",
    "\n",
    "ggplot(d) + geom_histogram(aes(LLIK)) + facet_wrap(~method)\n"
   ]
  },
  {
   "cell_type": "code",
   "execution_count": null,
   "metadata": {},
   "outputs": [],
   "source": [
    "options(repr.plot.width=5, repr.plot.height=2)\n",
    "ggplot(d) + geom_histogram(aes(PMSE)) + facet_wrap(~method)\n",
    "\n",
    "options(repr.plot.width=5, repr.plot.height=2)\n",
    "ggplot(d) + geom_histogram(aes(SMSE)) + facet_wrap(~method)"
   ]
  },
  {
   "cell_type": "code",
   "execution_count": null,
   "metadata": {},
   "outputs": [],
   "source": []
  },
  {
   "cell_type": "code",
   "execution_count": null,
   "metadata": {},
   "outputs": [],
   "source": [
    "options(repr.plot.width=5, repr.plot.height=2)\n",
    "ggplot(d) +\n",
    "geom_point(aes(sqrt(PMSE), sqrt(SMSE))) + \n",
    "facet_wrap(~method)"
   ]
  },
  {
   "cell_type": "code",
   "execution_count": null,
   "metadata": {},
   "outputs": [],
   "source": [
    "a <- d %>% filter(sigtype==30) %>% \n",
    "    select(nsig, nmut, method, PMSE) %>%\n",
    "    group_by(nsig, nmut) %>%\n",
    "    spread(method, PMSE) \n",
    "\n",
    "a\n",
    "# ggplot(a, aes(x=ds, y=)) + \n",
    "\n",
    "# d3 <- d  %>% spread(method, LLIK) %>%\n",
    "# mutate(\n",
    "#     ds=ds - LLIK0,\n",
    "#     mle = mle - LLIK0,\n",
    "#     mlez = mlez - LLIK0) %>%\n",
    "# gather(key = method, value, ds, mle, mlez, na.rm = TRUE)\n",
    "\n"
   ]
  },
  {
   "cell_type": "code",
   "execution_count": null,
   "metadata": {
    "scrolled": false
   },
   "outputs": [],
   "source": [
    "options(repr.plot.width=5, repr.plot.height=2)\n",
    "ggplot(d %>% filter(sigtype==5)) +\n",
    "geom_point(aes(LLIK/nmut, SMSE, color=nmut)) + \n",
    "facet_wrap(~method)\n",
    "\n",
    "options(repr.plot.width=5, repr.plot.height=2)\n",
    "ggplot(d %>% filter(sigtype==5)) +\n",
    "geom_point(aes(LLIK, log(PMSE), color=nmut)) +\n",
    "facet_wrap(~method)\n",
    "\n",
    "options(repr.plot.width=5, repr.plot.height=2)\n",
    "ggplot(d %>% filter(sigtype==5)) +\n",
    "geom_point(aes(LLIK, log(SMSE), color=nmut)) +\n",
    "facet_wrap(~method)\n",
    "\n",
    "\n",
    "options(repr.plot.width=5, repr.plot.height=2)\n",
    "ggplot(d %>% filter(sigtype==30)) +\n",
    "geom_point(aes(accuracy, log(PMSE), color=nmut)) +\n",
    "facet_wrap(~method)\n",
    "\n",
    "\n",
    "options(repr.plot.width=5, repr.plot.height=2)\n",
    "ggplot(d %>% filter(sigtype==30)) +\n",
    "geom_point(aes(accuracy, log(SMSE), color=nmut)) +\n",
    "facet_wrap(~method)\n",
    "\n",
    "\n",
    "options(repr.plot.width=5, repr.plot.height=2)\n",
    "ggplot(d %>% filter(sigtype==30)) +\n",
    "geom_point(aes(precision, log(PMSE), color=nmut)) +\n",
    "facet_wrap(~method)\n",
    "\n",
    "\n",
    "options(repr.plot.width=5, repr.plot.height=2)\n",
    "ggplot(d %>% filter(sigtype==30)) +\n",
    "geom_point(aes(precision, log(SMSE), color=nmut)) +\n",
    "facet_wrap(~method)\n",
    "\n",
    "\n",
    "options(repr.plot.width=5, repr.plot.height=2)\n",
    "ggplot(d %>% filter(sigtype==30)) +\n",
    "geom_point(aes(recall, log(PMSE), color=nmut)) +\n",
    "facet_wrap(~method)\n",
    "\n",
    "\n",
    "options(repr.plot.width=5, repr.plot.height=2)\n",
    "ggplot(d %>% filter(sigtype==30)) +\n",
    "geom_point(aes(recall, log(SMSE), color=nmut)) +\n",
    "facet_wrap(~method)\n",
    "\n",
    "\n",
    "# options(repr.plot.width=3, repr.plot.height=2)\n",
    "# ggplot(d %>% filter(sigtype==5 & method=='ds')) +\n",
    "# geom_point(aes(LLIK, log(PMSE), color=nmut))"
   ]
  },
  {
   "cell_type": "code",
   "execution_count": null,
   "metadata": {},
   "outputs": [],
   "source": [
    "options(repr.plot.width=6, repr.plot.height=2)\n",
    "ggplot(d) +\n",
    "geom_point(aes(LLIK0/nmut, LLIK/nmut)) + \n",
    "facet_wrap(~method)"
   ]
  },
  {
   "cell_type": "code",
   "execution_count": null,
   "metadata": {},
   "outputs": [],
   "source": [
    "options(repr.plot.width=2.5, repr.plot.height=2)\n",
    "ggplot(d %>% filter(method==\"mle\")) +\n",
    "geom_point(aes(-LLIK0, -LLIK))\n"
   ]
  },
  {
   "cell_type": "code",
   "execution_count": null,
   "metadata": {},
   "outputs": [],
   "source": [
    "options(repr.plot.width=6, repr.plot.height=2)\n",
    "ggplot(d %>% filter(sigtype==30)) +\n",
    "geom_point(aes(nmut, SMSE)) + \n",
    "facet_wrap(~method)"
   ]
  },
  {
   "cell_type": "code",
   "execution_count": null,
   "metadata": {},
   "outputs": [],
   "source": [
    "options(repr.plot.width=6, repr.plot.height=2)\n",
    "ggplot(d %>% filter(sigtype==30)) +\n",
    "geom_point(aes(nmut, PMSE)) + \n",
    "facet_wrap(~method)"
   ]
  },
  {
   "cell_type": "code",
   "execution_count": null,
   "metadata": {},
   "outputs": [],
   "source": [
    "options(repr.plot.width=6, repr.plot.height=2)\n",
    "ggplot(d %>% filter(sigtype==30)) +\n",
    "geom_point(aes(precision, recall, color=nmut)) + \n",
    "facet_wrap(~method)\n",
    "\n",
    "options(repr.plot.width=6, repr.plot.height=2)\n",
    "ggplot(d %>% filter(sigtype==30)) +\n",
    "geom_point(aes(nmut, precision, color=nmut)) + \n",
    "facet_wrap(~method)\n",
    "\n",
    "\n",
    "options(repr.plot.width=6, repr.plot.height=2)\n",
    "ggplot(d %>% filter(sigtype==30)) +\n",
    "geom_point(aes(nmut, recall, color=nmut)) + \n",
    "facet_wrap(~method)\n",
    "\n",
    "options(repr.plot.width=6, repr.plot.height=2)\n",
    "ggplot(d %>% filter(sigtype==30)) +\n",
    "geom_point(aes(nmut, accuracy, color=nmut)) + \n",
    "facet_wrap(~method)"
   ]
  },
  {
   "cell_type": "code",
   "execution_count": null,
   "metadata": {},
   "outputs": [],
   "source": [
    "options(repr.plot.width=6, repr.plot.height=2)\n",
    "ggplot(d %>% filter(sigtype==30 & nsig==10)) +\n",
    "geom_point(aes(precision, recall, color=nmut)) + \n",
    "facet_wrap(~method)\n",
    "\n",
    "options(repr.plot.width=6, repr.plot.height=2)\n",
    "ggplot(d %>% filter(sigtype==30 & nsig==10)) +\n",
    "geom_point(aes(nmut, precision, color=nmut)) + \n",
    "facet_wrap(~method)\n",
    "\n",
    "\n",
    "options(repr.plot.width=6, repr.plot.height=2)\n",
    "ggplot(d %>% filter(sigtype==30 & nsig==10)) +\n",
    "geom_point(aes(nmut, recall, color=nmut)) + \n",
    "facet_wrap(~method)\n",
    "\n",
    "options(repr.plot.width=6, repr.plot.height=2)\n",
    "ggplot(d %>% filter(sigtype==30 & nsig==5)) +\n",
    "geom_point(aes(nmut, accuracy, color=nmut)) + \n",
    "facet_wrap(~method)"
   ]
  },
  {
   "cell_type": "code",
   "execution_count": null,
   "metadata": {},
   "outputs": [],
   "source": [
    "options(repr.plot.width=6, repr.plot.height=2)\n",
    "ggplot(d %>% filter(sigtype==30 & nsig >= 2)) +\n",
    "geom_point(aes(nsig, precision, color=nmut)) + \n",
    "facet_wrap(~method)\n",
    "\n",
    "\n",
    "options(repr.plot.width=6, repr.plot.height=2)\n",
    "ggplot(d %>% filter(sigtype==30 & nsig >= 2)) +\n",
    "geom_point(aes(nsig, recall, color=nmut)) + \n",
    "facet_wrap(~method)\n",
    "\n",
    "options(repr.plot.width=6, repr.plot.height=2)\n",
    "ggplot(d %>% filter(sigtype==30 & nsig >= 2)) +\n",
    "geom_point(aes(nsig, accuracy, color=nmut)) + \n",
    "facet_wrap(~method)"
   ]
  },
  {
   "cell_type": "code",
   "execution_count": null,
   "metadata": {},
   "outputs": [],
   "source": [
    "options(repr.plot.width=4, repr.plot.height=1.6)\n",
    "ggplot(d %>% filter(sigtype==30 & nsig > 5)) +\n",
    "geom_boxplot(aes(method, sqrt(SMSE), color=method)) \n",
    "\n",
    "options(repr.plot.width=3, repr.plot.height=2)\n",
    "ggboxplot(d %>%\n",
    "          filter(sigtype==30 & nsig > 1 & nmut < 10000 & method != 'mlez') %>%\n",
    "          mutate(SRMSE=sqrt(SMSE)),\n",
    "          x=\"method\", y=\"SRMSE\") + \n",
    "stat_compare_means(comparisons = list( c(\"ds\", \"mle\")))\n",
    "\n",
    "# options(repr.plot.width=5, repr.plot.height=2)\n",
    "ggplot(d %>% filter(sigtype==30 & nsig > 5)) +\n",
    "geom_boxplot(aes(method, sqrt(PMSE), color=method))\n"
   ]
  },
  {
   "cell_type": "code",
   "execution_count": null,
   "metadata": {},
   "outputs": [],
   "source": [
    "# tables:\n",
    "d %>%\n",
    "    filter(nmut < 50 & method != 'mlez') %>%\n",
    "    mutate(SRMSE=sqrt(SMSE)) %>%\n",
    "    group_by(sigtype, method) %>%\n",
    "    summarise(\n",
    "        n=n(),\n",
    "        m=round(median(SRMSE), 3),\n",
    "        sd=round(sd(SRMSE), 3)\n",
    "    )\n",
    "\n",
    "\n",
    "d %>%\n",
    "    filter(nmut < 500 & nmut > 300 & method != 'mlez') %>%\n",
    "    mutate(SRMSE=sqrt(SMSE)) %>%\n",
    "    group_by(sigtype, method) %>%\n",
    "    summarise(\n",
    "        n=n(),\n",
    "        m=round(median(SRMSE), 3),\n",
    "        sd=round(sd(SRMSE), 3)\n",
    "    )\n",
    "\n",
    "d %>%\n",
    "    filter(nmut > 800 & method != 'mlez') %>%\n",
    "    mutate(SRMSE=sqrt(SMSE)) %>%\n",
    "    group_by(sigtype, method) %>%\n",
    "    summarise(\n",
    "        n=n(),\n",
    "        m=round(median(SRMSE), 3),\n",
    "        sd=round(sd(SRMSE), 3)\n",
    "    )"
   ]
  },
  {
   "cell_type": "code",
   "execution_count": null,
   "metadata": {},
   "outputs": [],
   "source": [
    "d2 <- d %>%\n",
    "    filter(\n",
    "        sigtype == 30,\n",
    "        nsig ==2 \n",
    "    ) %>%\n",
    "#     filter(\n",
    "#         method != 'mlez') %>%\n",
    "    mutate(\n",
    "        signatures=sigtype,\n",
    "        PRMSE=sqrt(PMSE),\n",
    "        SRMSE=sqrt(SMSE),\n",
    "        mutations=cut(nmut,\n",
    "                      breaks=c(-Inf, 50, 100, 500, Inf),\n",
    "                      labels=c(\"< 50\", \"50-100\", \"100-500\",\"> 500\"))\n",
    "    ) %>%\n",
    "    group_by(signatures, mutations, method)\n",
    "\n",
    "# tables:\n",
    "d2  %>%\n",
    "    summarise(\n",
    "        n=n(),\n",
    "        PRMSE=round(mean(PRMSE), 2),\n",
    "        SRMSE=round(mean(SRMSE), 2),\n",
    "        f1=round(mean(f1), 2),\n",
    "        accuracy=round(mean(accuracy), 2),\n",
    "        precision=round(mean(precision), 2),\n",
    "        recall=round(mean(recall), 2)\n",
    "    )\n",
    "\n"
   ]
  },
  {
   "cell_type": "code",
   "execution_count": null,
   "metadata": {},
   "outputs": [],
   "source": []
  },
  {
   "cell_type": "code",
   "execution_count": null,
   "metadata": {},
   "outputs": [],
   "source": [
    "options(repr.plot.width=3, repr.plot.height=2)\n",
    "ggboxplot(d %>%\n",
    "          filter( nsig > 1 & nmut < 10000 & method != 'mlez') %>%\n",
    "          mutate(SRMSE=sqrt(SMSE)),\n",
    "          x=\"method\", y=\"accuracy\") + \n",
    "stat_compare_means(comparisons = list( c(\"ds\", \"mle\")))\n",
    "\n",
    "options(repr.plot.width=3, repr.plot.height=2)\n",
    "ggboxplot(d %>%\n",
    "          filter( nsig > 1 & nmut < 10000 & method != 'mlez') %>%\n",
    "          mutate(SRMSE=sqrt(SMSE)),\n",
    "          x=\"method\", y=\"precision\") + \n",
    "stat_compare_means(comparisons = list( c(\"ds\", \"mle\")))\n",
    "\n",
    "\n",
    "options(repr.plot.width=3, repr.plot.height=2)\n",
    "ggboxplot(d %>%\n",
    "          filter( nsig > 1 & nmut < 10000 & method != 'mlez') %>%\n",
    "          mutate(SRMSE=sqrt(SMSE)),\n",
    "          x=\"method\", y=\"recall\") + \n",
    "stat_compare_means(comparisons = list( c(\"ds\", \"mle\")))"
   ]
  },
  {
   "cell_type": "markdown",
   "metadata": {},
   "source": [
    "#### "
   ]
  },
  {
   "cell_type": "code",
   "execution_count": null,
   "metadata": {},
   "outputs": [],
   "source": [
    "### options(repr.plot.width=4, repr.plot.height=1.6)\n",
    "ggplot(d %>% filter(sigtype==10 & nsig > 2)) +\n",
    "geom_boxplot(aes(method, precision, color=method))\n",
    "\n",
    "# options(repr.plot.width=5, repr.plot.height=2)\n",
    "ggplot(d %>% filter(sigtype==10 & nsig > 2)) +\n",
    "geom_boxplot(aes(method, recall, color=method))\n",
    "\n",
    "ggplot(d %>% filter(sigtype==10 & nsig > 2)) +\n",
    "geom_boxplot(aes(method, accuracy, color=method))"
   ]
  },
  {
   "cell_type": "code",
   "execution_count": null,
   "metadata": {},
   "outputs": [],
   "source": []
  },
  {
   "cell_type": "code",
   "execution_count": null,
   "metadata": {},
   "outputs": [],
   "source": [
    "d3 <- d  %>% spread(method, LLIK) %>%\n",
    "mutate(\n",
    "    ds=ds - LLIK0,\n",
    "    mle = mle - LLIK0,\n",
    "    mlez = mlez - LLIK0) %>%\n",
    "gather(key = method, value, ds, mle, mlez, na.rm = TRUE)\n",
    "\n",
    "options(repr.plot.width=5, repr.plot.height=2)\n",
    "ggplot(d3 %>% filter(sigtype==30)) +\n",
    "geom_boxplot(aes(method, value, color=method))"
   ]
  },
  {
   "cell_type": "code",
   "execution_count": null,
   "metadata": {},
   "outputs": [],
   "source": [
    "options(repr.plot.width=4, repr.plot.height=1.6)\n",
    "ggplot(d %>% filter(sigtype==5 & nmut > 40)) +\n",
    "geom_boxplot(aes(method, precision, color=method))\n",
    "\n",
    "# options(repr.plot.width=5, repr.plot.height=2)\n",
    "ggplot(d %>% filter(sigtype==5 & nmut >50)) +\n",
    "geom_boxplot(aes(method, recall, color=method))\n",
    "\n",
    "ggplot(d %>% filter(sigtype==5 & nmut>50)) +\n",
    "geom_boxplot(aes(method, accuracy, color=method))"
   ]
  },
  {
   "cell_type": "code",
   "execution_count": null,
   "metadata": {},
   "outputs": [],
   "source": []
  },
  {
   "cell_type": "code",
   "execution_count": null,
   "metadata": {},
   "outputs": [],
   "source": []
  },
  {
   "cell_type": "code",
   "execution_count": null,
   "metadata": {},
   "outputs": [],
   "source": [
    "library(ggpubr)"
   ]
  },
  {
   "cell_type": "code",
   "execution_count": null,
   "metadata": {},
   "outputs": [],
   "source": []
  }
 ],
 "metadata": {
  "kernelspec": {
   "display_name": "R",
   "language": "R",
   "name": "ir"
  },
  "language_info": {
   "codemirror_mode": "r",
   "file_extension": ".r",
   "mimetype": "text/x-r-source",
   "name": "R",
   "pygments_lexer": "r",
   "version": "3.5.0"
  }
 },
 "nbformat": 4,
 "nbformat_minor": 2
}
