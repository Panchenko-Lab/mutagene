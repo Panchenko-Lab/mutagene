{
 "cells": [
  {
   "cell_type": "code",
   "execution_count": 3,
   "metadata": {},
   "outputs": [],
   "source": [
    "library(data.table)\n",
    "library(dplyr)\n",
    "library(tidyr)\n",
    "library(ggplot2)\n",
    "library(cowplot)\n",
    "library(ggsci)"
   ]
  },
  {
   "cell_type": "code",
   "execution_count": null,
   "metadata": {},
   "outputs": [],
   "source": [
    "d = fread(\"../data/benchmark/multiple/res1.txt\") %>% filter(LLIK < 900000, LLIK0 < 900000)\n",
    "d <- d %>% mutate(\n",
    "    id = row_number(),\n",
    "    sigtype = as.factor(sigtype),\n",
    "    method = as.factor(method)),\n",
    "\n",
    "#     sig1 = as.factor(sig1),\n",
    "#     sig2 = as.factor(sig2),\n",
    "#     ratio = as.factor(ratio),\n",
    "#     noise = as.factor(noise),\n",
    "#     nmut = as.factor(nmut)\n",
    "# )\n",
    "head(d)"
   ]
  },
  {
   "cell_type": "code",
   "execution_count": null,
   "metadata": {},
   "outputs": [],
   "source": [
    "options(repr.plot.width=5, repr.plot.height=2)\n",
    "\n",
    "ggplot(d) + geom_histogram(aes(LLIK)) + facet_wrap(~method)\n"
   ]
  },
  {
   "cell_type": "code",
   "execution_count": null,
   "metadata": {},
   "outputs": [],
   "source": [
    "options(repr.plot.width=5, repr.plot.height=2)\n",
    "ggplot(d) + geom_histogram(aes(PMSE)) + facet_wrap(~method)\n",
    "\n",
    "options(repr.plot.width=5, repr.plot.height=2)\n",
    "ggplot(d) + geom_histogram(aes(SMSE)) + facet_wrap(~method)"
   ]
  },
  {
   "cell_type": "code",
   "execution_count": null,
   "metadata": {},
   "outputs": [],
   "source": []
  },
  {
   "cell_type": "code",
   "execution_count": null,
   "metadata": {},
   "outputs": [],
   "source": [
    "options(repr.plot.width=5, repr.plot.height=2)\n",
    "ggplot(d) +\n",
    "geom_point(aes(sqrt(PMSE), sqrt(SMSE))) + \n",
    "facet_wrap(~method)"
   ]
  },
  {
   "cell_type": "code",
   "execution_count": null,
   "metadata": {},
   "outputs": [],
   "source": [
    "a <- d %>% filter(sigtype==30) %>% \n",
    "    select(nsig, nmut, method, PMSE) %>%\n",
    "    group_by(nsig, nmut) %>%\n",
    "    spread(method, PMSE) \n",
    "\n",
    "a\n",
    "# ggplot(a, aes(x=ds, y=)) + \n",
    "\n",
    "# d3 <- d  %>% spread(method, LLIK) %>%\n",
    "# mutate(\n",
    "#     ds=ds - LLIK0,\n",
    "#     mle = mle - LLIK0,\n",
    "#     mlez = mlez - LLIK0) %>%\n",
    "# gather(key = method, value, ds, mle, mlez, na.rm = TRUE)\n",
    "\n"
   ]
  },
  {
   "cell_type": "code",
   "execution_count": null,
   "metadata": {
    "scrolled": false
   },
   "outputs": [],
   "source": [
    "options(repr.plot.width=5, repr.plot.height=2)\n",
    "ggplot(d %>% filter(sigtype==5)) +\n",
    "geom_point(aes(LLIK/nmut, SMSE, color=nmut)) + \n",
    "facet_wrap(~method)\n",
    "\n",
    "options(repr.plot.width=5, repr.plot.height=2)\n",
    "ggplot(d %>% filter(sigtype==5)) +\n",
    "geom_point(aes(LLIK, log(PMSE), color=nmut)) +\n",
    "facet_wrap(~method)\n",
    "\n",
    "options(repr.plot.width=5, repr.plot.height=2)\n",
    "ggplot(d %>% filter(sigtype==5)) +\n",
    "geom_point(aes(LLIK, log(SMSE), color=nmut)) +\n",
    "facet_wrap(~method)\n",
    "\n",
    "\n",
    "options(repr.plot.width=5, repr.plot.height=2)\n",
    "ggplot(d %>% filter(sigtype==30)) +\n",
    "geom_point(aes(accuracy, log(PMSE), color=nmut)) +\n",
    "facet_wrap(~method)\n",
    "\n",
    "\n",
    "options(repr.plot.width=5, repr.plot.height=2)\n",
    "ggplot(d %>% filter(sigtype==30)) +\n",
    "geom_point(aes(accuracy, log(SMSE), color=nmut)) +\n",
    "facet_wrap(~method)\n",
    "\n",
    "\n",
    "options(repr.plot.width=5, repr.plot.height=2)\n",
    "ggplot(d %>% filter(sigtype==30)) +\n",
    "geom_point(aes(precision, log(PMSE), color=nmut)) +\n",
    "facet_wrap(~method)\n",
    "\n",
    "\n",
    "options(repr.plot.width=5, repr.plot.height=2)\n",
    "ggplot(d %>% filter(sigtype==30)) +\n",
    "geom_point(aes(precision, log(SMSE), color=nmut)) +\n",
    "facet_wrap(~method)\n",
    "\n",
    "\n",
    "options(repr.plot.width=5, repr.plot.height=2)\n",
    "ggplot(d %>% filter(sigtype==30)) +\n",
    "geom_point(aes(recall, log(PMSE), color=nmut)) +\n",
    "facet_wrap(~method)\n",
    "\n",
    "\n",
    "options(repr.plot.width=5, repr.plot.height=2)\n",
    "ggplot(d %>% filter(sigtype==30)) +\n",
    "geom_point(aes(recall, log(SMSE), color=nmut)) +\n",
    "facet_wrap(~method)\n",
    "\n",
    "\n",
    "# options(repr.plot.width=3, repr.plot.height=2)\n",
    "# ggplot(d %>% filter(sigtype==5 & method=='ds')) +\n",
    "# geom_point(aes(LLIK, log(PMSE), color=nmut))"
   ]
  },
  {
   "cell_type": "code",
   "execution_count": null,
   "metadata": {},
   "outputs": [],
   "source": [
    "options(repr.plot.width=6, repr.plot.height=2)\n",
    "ggplot(d) +\n",
    "geom_point(aes(LLIK0/nmut, LLIK/nmut)) + \n",
    "facet_wrap(~method)"
   ]
  },
  {
   "cell_type": "code",
   "execution_count": null,
   "metadata": {},
   "outputs": [],
   "source": [
    "options(repr.plot.width=2.5, repr.plot.height=2)\n",
    "ggplot(d %>% filter(method==\"mle\")) +\n",
    "geom_point(aes(-LLIK0, -LLIK))\n"
   ]
  },
  {
   "cell_type": "code",
   "execution_count": null,
   "metadata": {},
   "outputs": [],
   "source": [
    "options(repr.plot.width=6, repr.plot.height=2)\n",
    "ggplot(d %>% filter(sigtype==30)) +\n",
    "geom_point(aes(nmut, SMSE)) + \n",
    "facet_wrap(~method)"
   ]
  },
  {
   "cell_type": "code",
   "execution_count": null,
   "metadata": {},
   "outputs": [],
   "source": [
    "options(repr.plot.width=6, repr.plot.height=2)\n",
    "ggplot(d %>% filter(sigtype==30)) +\n",
    "geom_point(aes(nmut, PMSE)) + \n",
    "facet_wrap(~method)"
   ]
  },
  {
   "cell_type": "code",
   "execution_count": null,
   "metadata": {},
   "outputs": [],
   "source": [
    "options(repr.plot.width=6, repr.plot.height=2)\n",
    "ggplot(d %>% filter(sigtype==30)) +\n",
    "geom_point(aes(precision, recall, color=nmut)) + \n",
    "facet_wrap(~method)\n",
    "\n",
    "options(repr.plot.width=6, repr.plot.height=2)\n",
    "ggplot(d %>% filter(sigtype==30)) +\n",
    "geom_point(aes(nmut, precision, color=nmut)) + \n",
    "facet_wrap(~method)\n",
    "\n",
    "\n",
    "options(repr.plot.width=6, repr.plot.height=2)\n",
    "ggplot(d %>% filter(sigtype==30)) +\n",
    "geom_point(aes(nmut, recall, color=nmut)) + \n",
    "facet_wrap(~method)\n",
    "\n",
    "options(repr.plot.width=6, repr.plot.height=2)\n",
    "ggplot(d %>% filter(sigtype==30)) +\n",
    "geom_point(aes(nmut, accuracy, color=nmut)) + \n",
    "facet_wrap(~method)"
   ]
  },
  {
   "cell_type": "code",
   "execution_count": null,
   "metadata": {},
   "outputs": [],
   "source": [
    "options(repr.plot.width=6, repr.plot.height=2)\n",
    "ggplot(d %>% filter(sigtype==30 & nsig==10)) +\n",
    "geom_point(aes(precision, recall, color=nmut)) + \n",
    "facet_wrap(~method)\n",
    "\n",
    "options(repr.plot.width=6, repr.plot.height=2)\n",
    "ggplot(d %>% filter(sigtype==30 & nsig==10)) +\n",
    "geom_point(aes(nmut, precision, color=nmut)) + \n",
    "facet_wrap(~method)\n",
    "\n",
    "\n",
    "options(repr.plot.width=6, repr.plot.height=2)\n",
    "ggplot(d %>% filter(sigtype==30 & nsig==10)) +\n",
    "geom_point(aes(nmut, recall, color=nmut)) + \n",
    "facet_wrap(~method)\n",
    "\n",
    "options(repr.plot.width=6, repr.plot.height=2)\n",
    "ggplot(d %>% filter(sigtype==30 & nsig==5)) +\n",
    "geom_point(aes(nmut, accuracy, color=nmut)) + \n",
    "facet_wrap(~method)"
   ]
  },
  {
   "cell_type": "code",
   "execution_count": null,
   "metadata": {},
   "outputs": [],
   "source": [
    "options(repr.plot.width=6, repr.plot.height=2)\n",
    "ggplot(d %>% filter(sigtype==30 & nsig >= 2)) +\n",
    "geom_point(aes(nsig, precision, color=nmut)) + \n",
    "facet_wrap(~method)\n",
    "\n",
    "\n",
    "options(repr.plot.width=6, repr.plot.height=2)\n",
    "ggplot(d %>% filter(sigtype==30 & nsig >= 2)) +\n",
    "geom_point(aes(nsig, recall, color=nmut)) + \n",
    "facet_wrap(~method)\n",
    "\n",
    "options(repr.plot.width=6, repr.plot.height=2)\n",
    "ggplot(d %>% filter(sigtype==30 & nsig >= 2)) +\n",
    "geom_point(aes(nsig, accuracy, color=nmut)) + \n",
    "facet_wrap(~method)"
   ]
  },
  {
   "cell_type": "code",
   "execution_count": null,
   "metadata": {},
   "outputs": [],
   "source": [
    "options(repr.plot.width=4, repr.plot.height=1.6)\n",
    "ggplot(d %>% filter(sigtype==30 & nsig > 5)) +\n",
    "geom_boxplot(aes(method, sqrt(SMSE), color=method)) \n",
    "\n",
    "options(repr.plot.width=3, repr.plot.height=2)\n",
    "ggboxplot(d %>%\n",
    "          filter(sigtype==30 & nsig > 1 & nmut < 10000 & method != 'mlez') %>%\n",
    "          mutate(SRMSE=sqrt(SMSE)),\n",
    "          x=\"method\", y=\"SRMSE\") + \n",
    "stat_compare_means(comparisons = list( c(\"ds\", \"mle\")))\n",
    "\n",
    "# options(repr.plot.width=5, repr.plot.height=2)\n",
    "ggplot(d %>% filter(sigtype==30 & nsig > 5)) +\n",
    "geom_boxplot(aes(method, sqrt(PMSE), color=method))\n"
   ]
  },
  {
   "cell_type": "code",
   "execution_count": null,
   "metadata": {},
   "outputs": [],
   "source": [
    "# tables:\n",
    "d %>%\n",
    "    filter(nmut < 50 & method != 'mlez') %>%\n",
    "    mutate(SRMSE=sqrt(SMSE)) %>%\n",
    "    group_by(sigtype, method) %>%\n",
    "    summarise(\n",
    "        n=n(),\n",
    "        m=round(median(SRMSE), 3),\n",
    "        sd=round(sd(SRMSE), 3)\n",
    "    )\n",
    "\n",
    "\n",
    "d %>%\n",
    "    filter(nmut < 500 & nmut > 300 & method != 'mlez') %>%\n",
    "    mutate(SRMSE=sqrt(SMSE)) %>%\n",
    "    group_by(sigtype, method) %>%\n",
    "    summarise(\n",
    "        n=n(),\n",
    "        m=round(median(SRMSE), 3),\n",
    "        sd=round(sd(SRMSE), 3)\n",
    "    )\n",
    "\n",
    "d %>%\n",
    "    filter(nmut > 800 & method != 'mlez') %>%\n",
    "    mutate(SRMSE=sqrt(SMSE)) %>%\n",
    "    group_by(sigtype, method) %>%\n",
    "    summarise(\n",
    "        n=n(),\n",
    "        m=round(median(SRMSE), 3),\n",
    "        sd=round(sd(SRMSE), 3)\n",
    "    )"
   ]
  },
  {
   "cell_type": "code",
   "execution_count": null,
   "metadata": {},
   "outputs": [],
   "source": [
    "d2 <- d %>%\n",
    "    filter(\n",
    "        sigtype == 30,\n",
    "        nsig ==2 \n",
    "    ) %>%\n",
    "#     filter(\n",
    "#         method != 'mlez') %>%\n",
    "    mutate(\n",
    "        signatures=sigtype,\n",
    "        PRMSE=sqrt(PMSE),\n",
    "        SRMSE=sqrt(SMSE),\n",
    "        mutations=cut(nmut,\n",
    "                      breaks=c(-Inf, 50, 100, 500, Inf),\n",
    "                      labels=c(\"< 50\", \"50-100\", \"100-500\",\"> 500\"))\n",
    "    ) %>%\n",
    "    group_by(signatures, mutations, method)\n",
    "\n",
    "# tables:\n",
    "d2  %>%\n",
    "    summarise(\n",
    "        n=n(),\n",
    "        PRMSE=round(mean(PRMSE), 2),\n",
    "        SRMSE=round(mean(SRMSE), 2),\n",
    "        f1=round(mean(f1), 2),\n",
    "        accuracy=round(mean(accuracy), 2),\n",
    "        precision=round(mean(precision), 2),\n",
    "        recall=round(mean(recall), 2)\n",
    "    )\n",
    "\n"
   ]
  },
  {
   "cell_type": "code",
   "execution_count": null,
   "metadata": {},
   "outputs": [],
   "source": []
  },
  {
   "cell_type": "code",
   "execution_count": null,
   "metadata": {},
   "outputs": [],
   "source": [
    "options(repr.plot.width=3, repr.plot.height=2)\n",
    "ggboxplot(d %>%\n",
    "          filter( nsig > 1 & nmut < 10000 & method != 'mlez') %>%\n",
    "          mutate(SRMSE=sqrt(SMSE)),\n",
    "          x=\"method\", y=\"accuracy\") + \n",
    "stat_compare_means(comparisons = list( c(\"ds\", \"mle\")))\n",
    "\n",
    "options(repr.plot.width=3, repr.plot.height=2)\n",
    "ggboxplot(d %>%\n",
    "          filter( nsig > 1 & nmut < 10000 & method != 'mlez') %>%\n",
    "          mutate(SRMSE=sqrt(SMSE)),\n",
    "          x=\"method\", y=\"precision\") + \n",
    "stat_compare_means(comparisons = list( c(\"ds\", \"mle\")))\n",
    "\n",
    "\n",
    "options(repr.plot.width=3, repr.plot.height=2)\n",
    "ggboxplot(d %>%\n",
    "          filter( nsig > 1 & nmut < 10000 & method != 'mlez') %>%\n",
    "          mutate(SRMSE=sqrt(SMSE)),\n",
    "          x=\"method\", y=\"recall\") + \n",
    "stat_compare_means(comparisons = list( c(\"ds\", \"mle\")))"
   ]
  },
  {
   "cell_type": "markdown",
   "metadata": {},
   "source": [
    "#### "
   ]
  },
  {
   "cell_type": "code",
   "execution_count": null,
   "metadata": {},
   "outputs": [],
   "source": [
    "### options(repr.plot.width=4, repr.plot.height=1.6)\n",
    "ggplot(d %>% filter(sigtype==10 & nsig > 2)) +\n",
    "geom_boxplot(aes(method, precision, color=method))\n",
    "\n",
    "# options(repr.plot.width=5, repr.plot.height=2)\n",
    "ggplot(d %>% filter(sigtype==10 & nsig > 2)) +\n",
    "geom_boxplot(aes(method, recall, color=method))\n",
    "\n",
    "ggplot(d %>% filter(sigtype==10 & nsig > 2)) +\n",
    "geom_boxplot(aes(method, accuracy, color=method))"
   ]
  },
  {
   "cell_type": "code",
   "execution_count": null,
   "metadata": {},
   "outputs": [],
   "source": []
  },
  {
   "cell_type": "code",
   "execution_count": null,
   "metadata": {},
   "outputs": [],
   "source": [
    "d3 <- d  %>% spread(method, LLIK) %>%\n",
    "mutate(\n",
    "    ds=ds - LLIK0,\n",
    "    mle = mle - LLIK0,\n",
    "    mlez = mlez - LLIK0) %>%\n",
    "gather(key = method, value, ds, mle, mlez, na.rm = TRUE)\n",
    "\n",
    "options(repr.plot.width=5, repr.plot.height=2)\n",
    "ggplot(d3 %>% filter(sigtype==30)) +\n",
    "geom_boxplot(aes(method, value, color=method))"
   ]
  },
  {
   "cell_type": "code",
   "execution_count": null,
   "metadata": {},
   "outputs": [],
   "source": [
    "options(repr.plot.width=4, repr.plot.height=1.6)\n",
    "ggplot(d %>% filter(sigtype==5 & nmut > 40)) +\n",
    "geom_boxplot(aes(method, precision, color=method))\n",
    "\n",
    "# options(repr.plot.width=5, repr.plot.height=2)\n",
    "ggplot(d %>% filter(sigtype==5 & nmut >50)) +\n",
    "geom_boxplot(aes(method, recall, color=method))\n",
    "\n",
    "ggplot(d %>% filter(sigtype==5 & nmut>50)) +\n",
    "geom_boxplot(aes(method, accuracy, color=method))"
   ]
  },
  {
   "cell_type": "code",
   "execution_count": null,
   "metadata": {},
   "outputs": [],
   "source": []
  },
  {
   "cell_type": "code",
   "execution_count": null,
   "metadata": {},
   "outputs": [],
   "source": []
  },
  {
   "cell_type": "code",
   "execution_count": null,
   "metadata": {},
   "outputs": [],
   "source": [
    "library(ggpubr)"
   ]
  },
  {
   "cell_type": "code",
   "execution_count": null,
   "metadata": {},
   "outputs": [],
   "source": []
  }
 ],
 "metadata": {
  "kernelspec": {
   "display_name": "R",
   "language": "R",
   "name": "ir"
  },
  "language_info": {
   "codemirror_mode": "r",
   "file_extension": ".r",
   "mimetype": "text/x-r-source",
   "name": "R",
   "pygments_lexer": "r",
   "version": "3.5.0"
  }
 },
 "nbformat": 4,
 "nbformat_minor": 2
}
