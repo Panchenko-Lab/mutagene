{
 "cells": [
  {
   "cell_type": "code",
   "execution_count": null,
   "metadata": {},
   "outputs": [],
   "source": [
    "library(data.table)\n",
    "library(dplyr)\n",
    "library(tidyr)\n",
    "library(ggplot2)\n",
    "library(cowplot)\n",
    "library(ggsci)"
   ]
  },
  {
   "cell_type": "code",
   "execution_count": null,
   "metadata": {},
   "outputs": [],
   "source": [
    "d = fread(\"../data/benchmark/2comb/res2-2.txt\")\n",
    "d <- d %>% mutate(\n",
    "    sigtype = as.factor(sigtype),\n",
    "    sig1 = as.factor(sig1),\n",
    "    sig2 = as.factor(sig2),\n",
    "    ratio = as.factor(ratio),\n",
    "    noise = as.factor(noise),\n",
    "    nmut = as.factor(nmut)\n",
    ")\n",
    "head(d)"
   ]
  },
  {
   "cell_type": "code",
   "execution_count": null,
   "metadata": {},
   "outputs": [],
   "source": []
  },
  {
   "cell_type": "code",
   "execution_count": null,
   "metadata": {},
   "outputs": [],
   "source": [
    "# MSE for signatures:\n",
    "# value - orig for tested signatures"
   ]
  },
  {
   "cell_type": "code",
   "execution_count": null,
   "metadata": {},
   "outputs": [],
   "source": [
    "d_mse <- d %>%\n",
    "    spread(method, value) %>%\n",
    "    gather(key = method, value = value, mle, mlez, ds) %>%\n",
    "    mutate(e = (value - original)) %>%\n",
    "    group_by(sigtype, sig1, sig2, ratio, noise, nmut, method)    %>%\n",
    "    summarise(\n",
    "        n = n(),\n",
    "        error = mean(e)\n",
    "    ) %>%\n",
    "    mutate(method = recode(method,\n",
    "        ds='deconstructSigs',\n",
    "        mle='MutaGene MLE',\n",
    "        mlez='MutaGene MLE*'\n",
    "    ))\n",
    "\n",
    "# head(d_mse)\n",
    "options(repr.plot.width=5, repr.plot.height=3)\n",
    "ggplot(d_mse %>% filter(nmut==500 & ratio==7 & noise==10)) +\n",
    "    geom_boxplot(aes(x=sigtype, y=error)) +\n",
    "    theme(axis.text.x = element_text(angle = 45, hjust = 1)) +\n",
    "    facet_wrap(~method)\n",
    "\n",
    "ggplot(d_mse %>% filter(sigtype==30 & nmut==500 & ratio==7)) +\n",
    "    geom_boxplot(aes(x=method, y=error)) +\n",
    "    theme(axis.text.x = element_text(angle = 45, hjust = 1)) +\n",
    "    facet_wrap(~noise)\n",
    "\n",
    "ggplot(d_mse %>% filter(sigtype==30 & nmut==500 & noise==10)) +\n",
    "    geom_boxplot(aes(x=method, y=error)) +\n",
    "    theme(axis.text.x = element_text(angle = 45, hjust = 1)) +\n",
    "    facet_wrap(~ratio)\n",
    "\n",
    "ggplot(d_mse %>% filter(sigtype==30 & ratio==7 & noise==10)) +\n",
    "    geom_boxplot(aes(x=method, y=error)) +\n",
    "    theme(axis.text.x = element_text(angle = 45, hjust = 1)) +\n",
    "    facet_wrap(~nmut)"
   ]
  },
  {
   "cell_type": "code",
   "execution_count": null,
   "metadata": {},
   "outputs": [],
   "source": [
    "d_mse <- d %>% filter(sigtype == 10 & noise == 10 & nmut == 500) %>%\n",
    "    spread(method, value) %>%\n",
    "    gather(key = method, value = value, mle, mlez, ds) %>%\n",
    "    mutate(e = (value - original)) %>%\n",
    "    group_by(sigtype, sig1, sig2, ratio, noise, nmut, method)    %>%\n",
    "    summarise(\n",
    "        n = n(),\n",
    "        error = mean(e)\n",
    "    ) %>%\n",
    "    mutate(method = recode(method,\n",
    "        ds='deconstructSigs',\n",
    "        mle='MutaGene MLE',\n",
    "        mlez='MutaGene MLE*'\n",
    "    ))\n",
    "\n",
    "# head(d_mse)\n",
    "options(repr.plot.width=3.5, repr.plot.height=3)\n",
    "error_vs_method <- ggplot(d_mse) + geom_boxplot(aes(x=method, y=error)) +\n",
    "    theme(axis.text.x = element_text(angle = 45, hjust = 1))\n",
    "error_vs_method"
   ]
  },
  {
   "cell_type": "code",
   "execution_count": null,
   "metadata": {},
   "outputs": [],
   "source": [
    "d_mse <- d %>% filter(sigtype == 5 & ratio == 7) %>%\n",
    "    spread(method, value) %>%\n",
    "    gather(key = method, value = value, mle, mlez, ds) %>%\n",
    "    mutate(\n",
    "        SE = (value - original)**2\n",
    "    ) %>%\n",
    "    group_by(sig1, sig2, ratio, noise, nmut, method)    %>%\n",
    "    summarise(\n",
    "        n = n(),\n",
    "        MSE = mean(SE)\n",
    "    ) %>%\n",
    "    mutate(method = recode(method,\n",
    "        ds='deconstructSigs',\n",
    "        mle='MutaGene MLE',\n",
    "        mlez='MutaGene MLE_corr'\n",
    "    ))\n",
    "\n",
    "# head(d_mse)\n",
    "mse_vs_method <- ggplot(d_mse) + geom_boxplot(aes(x=method, y=MSE)) +\n",
    "    theme(axis.text.x = element_text(angle = 45, hjust = 1))\n",
    "\n",
    "options(repr.plot.width=2, repr.plot.height=3)\n",
    "mse_vs_method\n",
    "\n",
    "ggplot(d_mse) + geom_boxplot(aes(x=method, color=as.factor(noise), y=MSE)) +\n",
    "    theme(axis.text.x = element_text(angle = 45, hjust = 1))\n",
    "\n"
   ]
  },
  {
   "cell_type": "code",
   "execution_count": null,
   "metadata": {},
   "outputs": [],
   "source": [
    "ggplot(d_mse) + geom_boxplot(aes(x=as.factor(method), y=MSE))"
   ]
  },
  {
   "cell_type": "code",
   "execution_count": null,
   "metadata": {},
   "outputs": [],
   "source": []
  },
  {
   "cell_type": "code",
   "execution_count": null,
   "metadata": {},
   "outputs": [],
   "source": []
  },
  {
   "cell_type": "code",
   "execution_count": null,
   "metadata": {},
   "outputs": [],
   "source": []
  },
  {
   "cell_type": "code",
   "execution_count": null,
   "metadata": {},
   "outputs": [],
   "source": [
    "plot_grid(\n",
    "\n",
    ", labels=c('A'))"
   ]
  },
  {
   "cell_type": "code",
   "execution_count": null,
   "metadata": {},
   "outputs": [],
   "source": []
  },
  {
   "cell_type": "code",
   "execution_count": null,
   "metadata": {},
   "outputs": [],
   "source": [
    "options(repr.plot.width=8, repr.plot.height=2*30)\n",
    "d2 = d %>% filter(sigtype == 30 & ratio==5 & noise==10 & nmut==500)\n",
    "ggplot(d2) + geom_boxplot(aes(x=as.factor(sig2), y=value, fill=method), show.legend=T) + facet_wrap(~as.factor(sig1), nrow=30)"
   ]
  },
  {
   "cell_type": "code",
   "execution_count": null,
   "metadata": {
    "scrolled": true
   },
   "outputs": [],
   "source": [
    "options(repr.plot.width=8, repr.plot.height=2)\n",
    "d2 = d %>% filter(sigtype == 5 & ratio==7 & noise==20 & nmut==50)\n",
    "ggplot(d2) + geom_boxplot(aes(x=as.factor(sig2), y=value, color=method), show.legend=T) + facet_wrap(~as.factor(sig1), nrow=1)"
   ]
  },
  {
   "cell_type": "code",
   "execution_count": null,
   "metadata": {},
   "outputs": [],
   "source": [
    "d %>% filter(sigtype == 5) %>%\n",
    "    group_by(sig1, sig2, nmut, noise, method)    %>%\n",
    "    summarise(\n",
    "        n = n(),\n",
    "        mvalue = mean(value, na.rm = TRUE)\n",
    "    )"
   ]
  },
  {
   "cell_type": "code",
   "execution_count": null,
   "metadata": {},
   "outputs": [],
   "source": [
    "options(repr.plot.width=8, repr.plot.height=7)\n",
    "d2 = d %>% filter(sigtype == 10 & ratio==5 & noise==10 & nmut==500)\n",
    "ggplot(d2) +\n",
    "geom_boxplot(aes(x=as.factor(sig2), y=value, color=method), show.legend=T) +\n",
    "facet_wrap(~as.factor(sig1), nrow=5) + \n",
    "scale_color_npg()"
   ]
  },
  {
   "cell_type": "code",
   "execution_count": null,
   "metadata": {},
   "outputs": [],
   "source": [
    "options(repr.plot.width=8, repr.plot.height=7)\n",
    "d2 = d %>% filter(sigtype == 10 & ratio==5 & nmut==500 & method==\"mlez\")\n",
    "ggplot(d2) +\n",
    "geom_boxplot(aes(x=as.factor(sig2), y=value, color=as.factor(noise)), show.legend=T) +\n",
    "facet_wrap(~as.factor(sig1), nrow=5) + \n",
    "scale_color_npg()"
   ]
  },
  {
   "cell_type": "code",
   "execution_count": null,
   "metadata": {},
   "outputs": [],
   "source": [
    "options(repr.plot.width=8, repr.plot.height=7)\n",
    "d2 = d %>% filter(sigtype == 10 & ratio==7 & noise==10 & method==\"mlez\")\n",
    "ggplot(d2) +\n",
    "geom_boxplot(aes(x=as.factor(sig2), y=value, color=as.factor(nmut)), show.legend=T) +\n",
    "facet_wrap(~as.factor(sig1), nrow=5) +\n",
    "scale_color_npg()"
   ]
  },
  {
   "cell_type": "code",
   "execution_count": null,
   "metadata": {},
   "outputs": [],
   "source": [
    "options(repr.plot.width=8, repr.plot.height=7)\n",
    "d2 = d %>% filter(sigtype == 10 & ratio==7 & nmut==500 & method==\"mlez\")\n",
    "ggplot(d2) +\n",
    "geom_boxplot(aes(x=as.factor(sig2), y=value, color=as.factor(noise)), show.legend=T) +\n",
    "facet_wrap(~as.factor(sig1), nrow=5) +\n",
    "scale_color_npg()"
   ]
  },
  {
   "cell_type": "code",
   "execution_count": null,
   "metadata": {},
   "outputs": [],
   "source": [
    "options(repr.plot.width=8, repr.plot.height=7)\n",
    "d2 = d %>% filter(sigtype == 10 & ratio==7 & nmut==500 & method==\"mlez\")\n",
    "ggplot(d2) +\n",
    "geom_boxplot(aes(x=as.factor(sig2), y=value, color=as.factor(noise)), show.legend=T) +\n",
    "facet_wrap(~as.factor(sig1), nrow=5) +\n",
    "scale_color_npg()"
   ]
  },
  {
   "cell_type": "code",
   "execution_count": null,
   "metadata": {},
   "outputs": [],
   "source": []
  },
  {
   "cell_type": "code",
   "execution_count": null,
   "metadata": {},
   "outputs": [],
   "source": []
  },
  {
   "cell_type": "code",
   "execution_count": null,
   "metadata": {},
   "outputs": [],
   "source": [
    "s0 = d %>% filter(sigtype == 10 & ratio == 7) %>%\n",
    "    group_by(sig1, sig2, nmut, noise, method)    %>%\n",
    "    summarise(\n",
    "        n = n(),\n",
    "        mvalue = mean(value, na.rm = TRUE)\n",
    "    )\n",
    "s1 = s0 %>%\n",
    "    spread(method, mvalue)\n",
    "\n",
    "s2 = s0 %>%\n",
    "    spread(nmut, mvalue)\n",
    "\n",
    "s3 = s0 %>%\n",
    "    spread(noise, mvalue)"
   ]
  },
  {
   "cell_type": "code",
   "execution_count": null,
   "metadata": {},
   "outputs": [],
   "source": [
    "s2 = s1 %>% mutate(ds = original - ds, mle=original-mle) %>%\n",
    "    select(-original)\n",
    "\n",
    "options(repr.plot.width=4, repr.plot.height=2)\n",
    "plot_grid(ggplot(s2) + geom_histogram(aes(mle)) + theme(axis.text.x = element_text(angle = 90, hjust = 1)),\n",
    "          ggplot(s2) + geom_histogram(aes(ds)) + theme(axis.text.x = element_text(angle = 90, hjust = 1)),\n",
    "          labels = c(\"A\", \"B\"), align = \"h\")"
   ]
  },
  {
   "cell_type": "code",
   "execution_count": null,
   "metadata": {},
   "outputs": [],
   "source": [
    "options(repr.plot.width=2, repr.plot.height=2)\n",
    "ggplot(s0 %>% filter(method != \"original\")) + geom_boxplot(aes(y=mvalue, x=method, fill=method), show.legend=F)"
   ]
  },
  {
   "cell_type": "code",
   "execution_count": null,
   "metadata": {},
   "outputs": [],
   "source": [
    "options(repr.plot.width=4, repr.plot.height=1.8)\n",
    "plot_grid(ggplot(s2) + geom_point(aes(ds, mle)),\n",
    "          ggplot(s) + geom_point(aes(ds, mle)),\n",
    "          labels = c(\"A\", \"B\"), align = \"h\")"
   ]
  },
  {
   "cell_type": "code",
   "execution_count": null,
   "metadata": {},
   "outputs": [],
   "source": []
  },
  {
   "cell_type": "code",
   "execution_count": null,
   "metadata": {},
   "outputs": [],
   "source": []
  },
  {
   "cell_type": "code",
   "execution_count": null,
   "metadata": {},
   "outputs": [],
   "source": []
  }
 ],
 "metadata": {
  "kernelspec": {
   "display_name": "R",
   "language": "R",
   "name": "ir"
  },
  "language_info": {
   "codemirror_mode": "r",
   "file_extension": ".r",
   "mimetype": "text/x-r-source",
   "name": "R",
   "pygments_lexer": "r",
   "version": "3.5.0"
  }
 },
 "nbformat": 4,
 "nbformat_minor": 2
}
