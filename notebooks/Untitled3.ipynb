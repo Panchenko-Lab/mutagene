{
 "cells": [
  {
   "cell_type": "code",
   "execution_count": 11,
   "metadata": {},
   "outputs": [
    {
     "name": "stderr",
     "output_type": "stream",
     "text": [
      "Loading required package: deconstructSigs\n",
      "Warning message in library(package, lib.loc = lib.loc, character.only = TRUE, logical.return = TRUE, :\n",
      "“there is no package called ‘deconstructSigs’”Loading required package: ggcorrplot\n",
      "Warning message in library(package, lib.loc = lib.loc, character.only = TRUE, logical.return = TRUE, :\n",
      "“there is no package called ‘ggcorrplot’”"
     ]
    },
    {
     "ename": "ERROR",
     "evalue": "Error in eval(expr, envir, enclos): object 'signatures.cosmic' not found\n",
     "output_type": "error",
     "traceback": [
      "Error in eval(expr, envir, enclos): object 'signatures.cosmic' not found\nTraceback:\n"
     ]
    }
   ],
   "source": [
    "require(deconstructSigs)\n",
    "require(ggcorrplot)\n",
    "\n",
    "W <- signatures.cosmic\n",
    "gsub(\"Signature \\.\", \"\", rownames(W))\n",
    "W\n",
    "# rownames(signatures.cosmic) <- as.character(1:30)\n",
    "# corr <- round(cor(t(signatures.cosmic)), 1)\n",
    "# ggcorrplot(corr, hc.order = TRUE, type = \"lower\",  insig = \"blank\")"
   ]
  },
  {
   "cell_type": "code",
   "execution_count": null,
   "metadata": {},
   "outputs": [],
   "source": []
  },
  {
   "cell_type": "code",
   "execution_count": null,
   "metadata": {},
   "outputs": [],
   "source": []
  }
 ],
 "metadata": {
  "kernelspec": {
   "display_name": "R",
   "language": "R",
   "name": "ir"
  },
  "language_info": {
   "codemirror_mode": "r",
   "file_extension": ".r",
   "mimetype": "text/x-r-source",
   "name": "R",
   "pygments_lexer": "r",
   "version": "3.5.0"
  }
 },
 "nbformat": 4,
 "nbformat_minor": 2
}
